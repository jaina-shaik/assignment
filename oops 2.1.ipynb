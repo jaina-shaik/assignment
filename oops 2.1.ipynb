{
 "cells": [
  {
   "cell_type": "markdown",
   "metadata": {},
   "source": [
    "# Is-A vs Has-A relationship "
   ]
  },
  {
   "cell_type": "code",
   "execution_count": 12,
   "metadata": {},
   "outputs": [
    {
     "name": "stdout",
     "output_type": "stream",
     "text": [
      "drink beer an eat biryani\n",
      "python applicaion developer invenkys vision\n",
      "e name jaina\n",
      "e age 20\n",
      "e no. 1008\n",
      "e salary 9800\n",
      "carinformaton\n",
      "car name bmw\n",
      "car model xyz\n",
      "car color blue\n"
     ]
    }
   ],
   "source": [
    "class car:\n",
    "    def __init__(self,name,model,color):\n",
    "        self.name=name\n",
    "        self.model=model\n",
    "        self.color=color\n",
    "    def carinfo(self):\n",
    "        print(\"car name\",self.name)\n",
    "        print(\"car model\",self.model)\n",
    "        print(\"car color\",self.color)\n",
    "class person:\n",
    "    def __init__(self,name,salary):\n",
    "        self.name=name\n",
    "        self.salary=salary\n",
    "    def eatandrink(self):\n",
    "        print(\"drink beer an eat biryani\")\n",
    "class employee(person):\n",
    "    def __init__(self,name,age,eno,esal,car):\n",
    "        self.name=name\n",
    "        self.age=age\n",
    "        self.eno=eno\n",
    "        self.esal=esal\n",
    "        self.car=car\n",
    "    def work(self):\n",
    "        print(\"python applicaion developer invenkys vision\")\n",
    "    def einfo(self):\n",
    "        print(\"e name\",self.name)\n",
    "        print(\"e age\",self.age)\n",
    "        print(\"e no.\",self.eno)\n",
    "        print(\"e salary\",self.esal)\n",
    "        print(\"carinformaton\")\n",
    "c=car(\"bmw\",\"xyz\",\"blue\")\n",
    "\n",
    "e=employee(\"jaina\",20,1008,9800,c)\n",
    "e.eatandrink()\n",
    "e.work()\n",
    "e.einfo()\n",
    "c.carinfo()\n"
   ]
  },
  {
   "cell_type": "markdown",
   "metadata": {},
   "source": [
    "# composition vs aggregation"
   ]
  },
  {
   "cell_type": "code",
   "execution_count": 14,
   "metadata": {},
   "outputs": [
    {
     "name": "stdout",
     "output_type": "stream",
     "text": [
      "jntuh\n",
      "jaina\n"
     ]
    }
   ],
   "source": [
    "class student:\n",
    "    collegename=\"jntuh\"\n",
    "    def __init__(self,name):\n",
    "        self.name=name\n",
    "print(student.collegename)\n",
    "s=student(\"jaina\")\n",
    "print(s.name)        "
   ]
  },
  {
   "cell_type": "code",
   "execution_count": 15,
   "metadata": {},
   "outputs": [
    {
     "name": "stdout",
     "output_type": "stream",
     "text": [
      "parent class method\n",
      "child class method\n"
     ]
    }
   ],
   "source": [
    "class p:\n",
    "    def m1(self):\n",
    "        print(\"parent class method\")\n",
    "class c(p):\n",
    "    def m2(sself):\n",
    "        print(\"child class method\")\n",
    "c=c()\n",
    "c.m1()\n",
    "c.m2()\n"
   ]
  },
  {
   "cell_type": "code",
   "execution_count": 2,
   "metadata": {},
   "outputs": [
    {
     "name": "stdout",
     "output_type": "stream",
     "text": [
      "parent method\n",
      "child class1 method\n",
      "child2 class2 method\n"
     ]
    }
   ],
   "source": [
    "class p:\n",
    "    def m1(self):\n",
    "        print(\"parent method\")\n",
    "class c1(p):\n",
    "    def m2(self):\n",
    "        print(\"child class1 method\")\n",
    "class c2(c1):\n",
    "    def m3(self):\n",
    "        print(\"child2 class2 method\")\n",
    "c=c2()\n",
    "c.m1()\n",
    "c.m2()\n",
    "c.m3()"
   ]
  },
  {
   "cell_type": "code",
   "execution_count": 4,
   "metadata": {},
   "outputs": [
    {
     "name": "stdout",
     "output_type": "stream",
     "text": [
      "parent class method\n",
      "child class1 method\n",
      "parent class method\n",
      "child class3 method\n"
     ]
    }
   ],
   "source": [
    "class p:\n",
    "    def m1(self):\n",
    "        print(\"parent class method\")\n",
    "class c1(p):\n",
    "    def m2(self):\n",
    "        print(\"child class1 method\")\n",
    "class c2(p):\n",
    "    def m3(self):\n",
    "        print(\"child class3 method\")\n",
    "c=c1()\n",
    "c.m1()\n",
    "c.m2()\n",
    "d=c2()\n",
    "d.m1()\n",
    "d.m3()\n",
    "        "
   ]
  },
  {
   "cell_type": "markdown",
   "metadata": {},
   "source": [
    "# 4.Multiple inheritance"
   ]
  },
  {
   "cell_type": "code",
   "execution_count": 6,
   "metadata": {},
   "outputs": [
    {
     "name": "stdout",
     "output_type": "stream",
     "text": [
      "parent1 method\n",
      "parent2 method\n",
      "child class method\n"
     ]
    }
   ],
   "source": [
    "class p1:\n",
    "    def m1(self):\n",
    "        print(\"parent1 method\")\n",
    "class p2:\n",
    "    def m2(self):\n",
    "        print(\"parent2 method\")\n",
    "class C(p1,p2):\n",
    "    def m3(self):\n",
    "        print(\"child class method\")\n",
    "c=C()\n",
    "c.m1()\n",
    "c.m2()\n",
    "c.m3()"
   ]
  },
  {
   "cell_type": "markdown",
   "metadata": {},
   "source": [
    "# ASSIGNMENT QUESTION"
   ]
  },
  {
   "cell_type": "code",
   "execution_count": 19,
   "metadata": {},
   "outputs": [
    {
     "name": "stdout",
     "output_type": "stream",
     "text": [
      "parent1 method\n",
      "parent2 method\n",
      "parent3 method\n",
      "child class method\n",
      "child1 class method\n",
      "child2 class method\n",
      "child2 class method\n",
      "child class1 method\n",
      "child class2 method\n",
      "child2 class method\n"
     ]
    }
   ],
   "source": [
    "class p1:\n",
    "    def m1(self):\n",
    "        print(\"parent1 method\")\n",
    "class p2:\n",
    "    def m2(self):\n",
    "        print(\"parent2 method\")\n",
    "class p3:\n",
    "    def m3(self):\n",
    "        print(\"parent3 method\")\n",
    "class c1(p1,p2,p3):\n",
    "    def m4(self):\n",
    "        print(\"child class method\")\n",
    "class c2(c1):\n",
    "    def m5(self):\n",
    "        print(\"child1 class method\")\n",
    "class c3(c2):\n",
    "    def m6(self):\n",
    "        print(\"child2 class method\")\n",
    "class c11(c3):\n",
    "    def m8(self):\n",
    "        print(\"child class1 method\")\n",
    "class c12(c3):\n",
    "    def m9(self):\n",
    "        print(\"child class2 method\")\n",
    "C=c1()\n",
    "C.m1()\n",
    "C.m2()\n",
    "C.m3()\n",
    "C3=c3()\n",
    "C3.m4()\n",
    "C3.m5()\n",
    "C3.m6()\n",
    "C11=c11()\n",
    "C11.m6()\n",
    "C11.m8()\n",
    "C12=c12()\n",
    "C12.m9()\n",
    "C12.m6()\n",
    "        "
   ]
  },
  {
   "cell_type": "code",
   "execution_count": null,
   "metadata": {},
   "outputs": [],
   "source": []
  }
 ],
 "metadata": {
  "kernelspec": {
   "display_name": "Python 3",
   "language": "python",
   "name": "python3"
  },
  "language_info": {
   "codemirror_mode": {
    "name": "ipython",
    "version": 3
   },
   "file_extension": ".py",
   "mimetype": "text/x-python",
   "name": "python",
   "nbconvert_exporter": "python",
   "pygments_lexer": "ipython3",
   "version": "3.8.5"
  }
 },
 "nbformat": 4,
 "nbformat_minor": 4
}
